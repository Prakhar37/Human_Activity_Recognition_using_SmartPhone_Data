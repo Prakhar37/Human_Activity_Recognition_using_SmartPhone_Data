{
 "cells": [
  {
   "cell_type": "markdown",
   "metadata": {
    "id": "yUpmlXmAi2Ud"
   },
   "source": [
    "## Description\n",
    "\n",
    "**The Human Activity Recognition database was built from the recordings of 30 study participants performing activities of daily living (ADL) while carrying a waist-mounted smartphone with embedded inertial sensors. The objective is to classify activities into one of the six activities performed.**\n"
   ]
  },
  {
   "cell_type": "markdown",
   "metadata": {
    "id": "g8xkxIO8i2Uu"
   },
   "source": [
    "\n",
    "# Description of experiment\n",
    "The experiments have been carried out with a group of 30 volunteers within an age bracket of 19-48 years. Each person performed six activities (WALKING, WALKINGUPSTAIRS, WALKINGDOWNSTAIRS, SITTING, STANDING, LAYING) wearing a smartphone (Samsung Galaxy S II) on the waist. Using its embedded accelerometer and gyroscope, we captured 3-axial linear acceleration and 3-axial angular velocity at a constant rate of 50Hz. The experiments have been video-recorded to label the data manually. The obtained dataset has been randomly partitioned into two sets, where 70% of the volunteers was selected for generating the training data and 30% the test data. \n",
    "\n",
    "The sensor signals (accelerometer and gyroscope) were pre-processed by applying noise filters and then sampled in fixed-width sliding windows of 2.56 sec and 50% overlap (128 readings/window). The sensor acceleration signal, which has gravitational and body motion components, was separated using a Butterworth low-pass filter into body acceleration and gravity. The gravitational force is assumed to have only low frequency components, therefore a filter with 0.3 Hz cutoff frequency was used. From each window, a vector of features was obtained by calculating variables from the time and frequency domain.\n",
    "\n"
   ]
  },
  {
   "cell_type": "markdown",
   "metadata": {
    "id": "KplAmNTqi2Ux"
   },
   "source": [
    "### Notebook - Table of Content\n",
    "\n",
    "1. **Importing necessary libraries**\n",
    "2. **Loading data**\n",
    "3. **Data preprocessing**\n",
    "    - 3.a Checking for duplicates\n",
    "    - 3.b Checking for missing values\n",
    "    - 3.c Checking for class imbalance\n",
    "4. **Exploratory Data Analysis**\n",
    "    - 4.a Analysing tBodyAccMag-mean feature\n",
    "    - 4.b Analysing Angle between X-axis and gravityMean feature\n",
    "    - 4.c Analysing Angle between Y-axis and gravityMean feature\n",
    "    - 4.d Visualizing data using t-SNE\n",
    "5. **Model Prediction and Evaluation**\n",
    "    - 5.a Logistic regression model with Hyperparameter tuning and cross validation\n",
    "    - 5.b Linear SVM model with Hyperparameter tuning and cross validation\n",
    "    - 5.c Kernel SVM model with Hyperparameter tuning and cross validation\n",
    "    - 5.d Decision tree model with Hyperparameter tuning and cross validation\n",
    "    - 5.e Random forest model with Hyperparameter tuning and cross validation"
   ]
  },
  {
   "cell_type": "markdown",
   "metadata": {
    "id": "-uUKu6nyi2U1"
   },
   "source": [
    "## 1. Importing necesary Libraries"
   ]
  },
  {
   "cell_type": "code",
   "execution_count": null,
   "metadata": {
    "id": "F8EXe3M9i2U3"
   },
   "outputs": [],
   "source": [
    "import warnings\n",
    "warnings.filterwarnings(\"ignore\")\n",
    "\n",
    "import numpy as np\n",
    "import pandas as pd\n",
    "\n",
    "import matplotlib.pyplot as plt\n",
    "import seaborn as sns\n",
    "\n",
    "from collections import Counter\n",
    "\n",
    "from sklearn.decomposition import PCA\n",
    "from sklearn.manifold import TSNE\n",
    "\n",
    "from sklearn.model_selection import RandomizedSearchCV\n",
    "\n",
    "from sklearn.linear_model import LogisticRegression\n",
    "from sklearn.svm import SVC\n",
    "from sklearn.tree import DecisionTreeClassifier\n",
    "from sklearn.ensemble import RandomForestClassifier\n",
    "\n",
    "from sklearn.metrics import confusion_matrix\n",
    "from sklearn.metrics import accuracy_score\n",
    "from sklearn.metrics import classification_report"
   ]
  },
  {
   "cell_type": "markdown",
   "metadata": {
    "id": "Zrcw2wTIi2U9"
   },
   "source": [
    "## 2. Loading the Data"
   ]
  },
  {
   "cell_type": "code",
   "execution_count": null,
   "metadata": {
    "id": "GAjv3TB7i2U_"
   },
   "outputs": [],
   "source": [
    "train = pd.read_csv('train.csv')\n",
    "test = pd.read_csv('test.csv')"
   ]
  },
  {
   "cell_type": "code",
   "execution_count": null,
   "metadata": {
    "id": "wF_IDx3Xi2VC",
    "outputId": "6bdbc6e9-dbdc-4af7-add5-5635de7c7e09"
   },
   "outputs": [
    {
     "data": {
      "text/html": [
       "<div>\n",
       "<style scoped>\n",
       "    .dataframe tbody tr th:only-of-type {\n",
       "        vertical-align: middle;\n",
       "    }\n",
       "\n",
       "    .dataframe tbody tr th {\n",
       "        vertical-align: top;\n",
       "    }\n",
       "\n",
       "    .dataframe thead th {\n",
       "        text-align: right;\n",
       "    }\n",
       "</style>\n",
       "<table border=\"1\" class=\"dataframe\">\n",
       "  <thead>\n",
       "    <tr style=\"text-align: right;\">\n",
       "      <th></th>\n",
       "      <th>tBodyAcc-mean()-X</th>\n",
       "      <th>tBodyAcc-mean()-Y</th>\n",
       "      <th>tBodyAcc-mean()-Z</th>\n",
       "      <th>tBodyAcc-std()-X</th>\n",
       "      <th>tBodyAcc-std()-Y</th>\n",
       "      <th>tBodyAcc-std()-Z</th>\n",
       "      <th>tBodyAcc-mad()-X</th>\n",
       "      <th>tBodyAcc-mad()-Y</th>\n",
       "      <th>tBodyAcc-mad()-Z</th>\n",
       "      <th>tBodyAcc-max()-X</th>\n",
       "      <th>...</th>\n",
       "      <th>fBodyBodyGyroJerkMag-kurtosis()</th>\n",
       "      <th>angle(tBodyAccMean,gravity)</th>\n",
       "      <th>angle(tBodyAccJerkMean),gravityMean)</th>\n",
       "      <th>angle(tBodyGyroMean,gravityMean)</th>\n",
       "      <th>angle(tBodyGyroJerkMean,gravityMean)</th>\n",
       "      <th>angle(X,gravityMean)</th>\n",
       "      <th>angle(Y,gravityMean)</th>\n",
       "      <th>angle(Z,gravityMean)</th>\n",
       "      <th>subject</th>\n",
       "      <th>Activity</th>\n",
       "    </tr>\n",
       "  </thead>\n",
       "  <tbody>\n",
       "    <tr>\n",
       "      <th>0</th>\n",
       "      <td>0.288585</td>\n",
       "      <td>-0.020294</td>\n",
       "      <td>-0.132905</td>\n",
       "      <td>-0.995279</td>\n",
       "      <td>-0.983111</td>\n",
       "      <td>-0.913526</td>\n",
       "      <td>-0.995112</td>\n",
       "      <td>-0.983185</td>\n",
       "      <td>-0.923527</td>\n",
       "      <td>-0.934724</td>\n",
       "      <td>...</td>\n",
       "      <td>-0.710304</td>\n",
       "      <td>-0.112754</td>\n",
       "      <td>0.030400</td>\n",
       "      <td>-0.464761</td>\n",
       "      <td>-0.018446</td>\n",
       "      <td>-0.841247</td>\n",
       "      <td>0.179941</td>\n",
       "      <td>-0.058627</td>\n",
       "      <td>1</td>\n",
       "      <td>STANDING</td>\n",
       "    </tr>\n",
       "    <tr>\n",
       "      <th>1</th>\n",
       "      <td>0.278419</td>\n",
       "      <td>-0.016411</td>\n",
       "      <td>-0.123520</td>\n",
       "      <td>-0.998245</td>\n",
       "      <td>-0.975300</td>\n",
       "      <td>-0.960322</td>\n",
       "      <td>-0.998807</td>\n",
       "      <td>-0.974914</td>\n",
       "      <td>-0.957686</td>\n",
       "      <td>-0.943068</td>\n",
       "      <td>...</td>\n",
       "      <td>-0.861499</td>\n",
       "      <td>0.053477</td>\n",
       "      <td>-0.007435</td>\n",
       "      <td>-0.732626</td>\n",
       "      <td>0.703511</td>\n",
       "      <td>-0.844788</td>\n",
       "      <td>0.180289</td>\n",
       "      <td>-0.054317</td>\n",
       "      <td>1</td>\n",
       "      <td>STANDING</td>\n",
       "    </tr>\n",
       "    <tr>\n",
       "      <th>2</th>\n",
       "      <td>0.279653</td>\n",
       "      <td>-0.019467</td>\n",
       "      <td>-0.113462</td>\n",
       "      <td>-0.995380</td>\n",
       "      <td>-0.967187</td>\n",
       "      <td>-0.978944</td>\n",
       "      <td>-0.996520</td>\n",
       "      <td>-0.963668</td>\n",
       "      <td>-0.977469</td>\n",
       "      <td>-0.938692</td>\n",
       "      <td>...</td>\n",
       "      <td>-0.760104</td>\n",
       "      <td>-0.118559</td>\n",
       "      <td>0.177899</td>\n",
       "      <td>0.100699</td>\n",
       "      <td>0.808529</td>\n",
       "      <td>-0.848933</td>\n",
       "      <td>0.180637</td>\n",
       "      <td>-0.049118</td>\n",
       "      <td>1</td>\n",
       "      <td>STANDING</td>\n",
       "    </tr>\n",
       "    <tr>\n",
       "      <th>3</th>\n",
       "      <td>0.279174</td>\n",
       "      <td>-0.026201</td>\n",
       "      <td>-0.123283</td>\n",
       "      <td>-0.996091</td>\n",
       "      <td>-0.983403</td>\n",
       "      <td>-0.990675</td>\n",
       "      <td>-0.997099</td>\n",
       "      <td>-0.982750</td>\n",
       "      <td>-0.989302</td>\n",
       "      <td>-0.938692</td>\n",
       "      <td>...</td>\n",
       "      <td>-0.482845</td>\n",
       "      <td>-0.036788</td>\n",
       "      <td>-0.012892</td>\n",
       "      <td>0.640011</td>\n",
       "      <td>-0.485366</td>\n",
       "      <td>-0.848649</td>\n",
       "      <td>0.181935</td>\n",
       "      <td>-0.047663</td>\n",
       "      <td>1</td>\n",
       "      <td>STANDING</td>\n",
       "    </tr>\n",
       "    <tr>\n",
       "      <th>4</th>\n",
       "      <td>0.276629</td>\n",
       "      <td>-0.016570</td>\n",
       "      <td>-0.115362</td>\n",
       "      <td>-0.998139</td>\n",
       "      <td>-0.980817</td>\n",
       "      <td>-0.990482</td>\n",
       "      <td>-0.998321</td>\n",
       "      <td>-0.979672</td>\n",
       "      <td>-0.990441</td>\n",
       "      <td>-0.942469</td>\n",
       "      <td>...</td>\n",
       "      <td>-0.699205</td>\n",
       "      <td>0.123320</td>\n",
       "      <td>0.122542</td>\n",
       "      <td>0.693578</td>\n",
       "      <td>-0.615971</td>\n",
       "      <td>-0.847865</td>\n",
       "      <td>0.185151</td>\n",
       "      <td>-0.043892</td>\n",
       "      <td>1</td>\n",
       "      <td>STANDING</td>\n",
       "    </tr>\n",
       "  </tbody>\n",
       "</table>\n",
       "<p>5 rows × 563 columns</p>\n",
       "</div>"
      ],
      "text/plain": [
       "   tBodyAcc-mean()-X  tBodyAcc-mean()-Y  tBodyAcc-mean()-Z  tBodyAcc-std()-X  \\\n",
       "0           0.288585          -0.020294          -0.132905         -0.995279   \n",
       "1           0.278419          -0.016411          -0.123520         -0.998245   \n",
       "2           0.279653          -0.019467          -0.113462         -0.995380   \n",
       "3           0.279174          -0.026201          -0.123283         -0.996091   \n",
       "4           0.276629          -0.016570          -0.115362         -0.998139   \n",
       "\n",
       "   tBodyAcc-std()-Y  tBodyAcc-std()-Z  tBodyAcc-mad()-X  tBodyAcc-mad()-Y  \\\n",
       "0         -0.983111         -0.913526         -0.995112         -0.983185   \n",
       "1         -0.975300         -0.960322         -0.998807         -0.974914   \n",
       "2         -0.967187         -0.978944         -0.996520         -0.963668   \n",
       "3         -0.983403         -0.990675         -0.997099         -0.982750   \n",
       "4         -0.980817         -0.990482         -0.998321         -0.979672   \n",
       "\n",
       "   tBodyAcc-mad()-Z  tBodyAcc-max()-X  ...  fBodyBodyGyroJerkMag-kurtosis()  \\\n",
       "0         -0.923527         -0.934724  ...                        -0.710304   \n",
       "1         -0.957686         -0.943068  ...                        -0.861499   \n",
       "2         -0.977469         -0.938692  ...                        -0.760104   \n",
       "3         -0.989302         -0.938692  ...                        -0.482845   \n",
       "4         -0.990441         -0.942469  ...                        -0.699205   \n",
       "\n",
       "   angle(tBodyAccMean,gravity)  angle(tBodyAccJerkMean),gravityMean)  \\\n",
       "0                    -0.112754                              0.030400   \n",
       "1                     0.053477                             -0.007435   \n",
       "2                    -0.118559                              0.177899   \n",
       "3                    -0.036788                             -0.012892   \n",
       "4                     0.123320                              0.122542   \n",
       "\n",
       "   angle(tBodyGyroMean,gravityMean)  angle(tBodyGyroJerkMean,gravityMean)  \\\n",
       "0                         -0.464761                             -0.018446   \n",
       "1                         -0.732626                              0.703511   \n",
       "2                          0.100699                              0.808529   \n",
       "3                          0.640011                             -0.485366   \n",
       "4                          0.693578                             -0.615971   \n",
       "\n",
       "   angle(X,gravityMean)  angle(Y,gravityMean)  angle(Z,gravityMean)  subject  \\\n",
       "0             -0.841247              0.179941             -0.058627        1   \n",
       "1             -0.844788              0.180289             -0.054317        1   \n",
       "2             -0.848933              0.180637             -0.049118        1   \n",
       "3             -0.848649              0.181935             -0.047663        1   \n",
       "4             -0.847865              0.185151             -0.043892        1   \n",
       "\n",
       "   Activity  \n",
       "0  STANDING  \n",
       "1  STANDING  \n",
       "2  STANDING  \n",
       "3  STANDING  \n",
       "4  STANDING  \n",
       "\n",
       "[5 rows x 563 columns]"
      ]
     },
     "execution_count": 3,
     "metadata": {},
     "output_type": "execute_result"
    }
   ],
   "source": [
    "train.head()"
   ]
  },
  {
   "cell_type": "code",
   "execution_count": null,
   "metadata": {
    "id": "EGkNA9sti2VH",
    "outputId": "1a4c5c8b-87df-4deb-83d1-1e246831e4d7"
   },
   "outputs": [
    {
     "name": "stdout",
     "output_type": "stream",
     "text": [
      "<class 'pandas.core.frame.DataFrame'>\n",
      "RangeIndex: 7352 entries, 0 to 7351\n",
      "Columns: 563 entries, tBodyAcc-mean()-X to Activity\n",
      "dtypes: float64(561), int64(1), object(1)\n",
      "memory usage: 31.6+ MB\n"
     ]
    }
   ],
   "source": [
    "train.info()"
   ]
  },
  {
   "cell_type": "code",
   "execution_count": null,
   "metadata": {
    "id": "4TZUvTY2i2VJ",
    "outputId": "2d7aa9cd-57f4-4909-bf21-c83008ef0b3f"
   },
   "outputs": [
    {
     "data": {
      "text/plain": [
       "25    409\n",
       "21    408\n",
       "26    392\n",
       "30    383\n",
       "28    382\n",
       "27    376\n",
       "23    372\n",
       "17    368\n",
       "16    366\n",
       "19    360\n",
       "1     347\n",
       "29    344\n",
       "3     341\n",
       "15    328\n",
       "6     325\n",
       "14    323\n",
       "22    321\n",
       "11    316\n",
       "7     308\n",
       "5     302\n",
       "8     281\n",
       "Name: subject, dtype: int64"
      ]
     },
     "execution_count": 5,
     "metadata": {},
     "output_type": "execute_result"
    }
   ],
   "source": [
    "train.subject.value_counts()"
   ]
  },
  {
   "cell_type": "markdown",
   "metadata": {
    "id": "ZOzHjk0qi2VL"
   },
   "source": [
    "## 3. Data preprocessing"
   ]
  },
  {
   "cell_type": "markdown",
   "metadata": {
    "id": "SvJ5AY5ri2VM"
   },
   "source": [
    "##### 3.a Checking of duplicates"
   ]
  },
  {
   "cell_type": "code",
   "execution_count": null,
   "metadata": {
    "id": "oFyLPuHji2VN",
    "outputId": "0df92511-2109-414b-831a-ceb0d7422d65"
   },
   "outputs": [
    {
     "name": "stdout",
     "output_type": "stream",
     "text": [
      "Number of duplicates in train :  0\n",
      "Number of duplicates in test :  0\n"
     ]
    }
   ],
   "source": [
    "print('Number of duplicates in train : ',sum(train.duplicated()))\n",
    "print('Number of duplicates in test : ', sum(test.duplicated()))"
   ]
  },
  {
   "cell_type": "markdown",
   "metadata": {
    "id": "MmCz18xPi2VP"
   },
   "source": [
    "##### 3.b Checking for missing values"
   ]
  },
  {
   "cell_type": "code",
   "execution_count": null,
   "metadata": {
    "id": "vqN58r09i2VQ",
    "outputId": "e1b8dd09-b393-412c-86cd-c8a44406a2d9"
   },
   "outputs": [
    {
     "ename": "",
     "evalue": "",
     "output_type": "error",
     "traceback": [
      "\u001b[1;31mRunning cells with 'Python 3.12.2' requires the ipykernel package.\n",
      "\u001b[1;31mRun the following command to install 'ipykernel' into the Python environment. \n",
      "\u001b[1;31mCommand: 'c:/Users/91706/AppData/Local/Programs/Python/Python312/python.exe -m pip install ipykernel -U --user --force-reinstall'"
     ]
    }
   ],
   "source": [
    "print('Total number of missing values in train : ', train.isna().values.sum())\n",
    "print('Total number of missing values in test : ', test.isna().values.sum())"
   ]
  },
  {
   "cell_type": "markdown",
   "metadata": {
    "id": "l8DH7fQai2VR"
   },
   "source": [
    "##### 3.c Checking for class imbalance"
   ]
  },
  {
   "cell_type": "code",
   "execution_count": null,
   "metadata": {
    "id": "1ezuC6Abi2VS",
    "outputId": "2553e007-9ae6-416e-f2b8-34fc431ebd2e"
   },
   "outputs": [],
   "source": [
    "plt.figure(figsize=(10,8))\n",
    "plt.title('Barplot of Activity')\n",
    "sns.countplot(train.Activity, order = train.Activity.value_counts().index)\n",
    "plt.xticks(rotation = 30)\n",
    "plt.show()"
   ]
  },
  {
   "cell_type": "markdown",
   "metadata": {
    "id": "FX9sCJNCi2VT"
   },
   "source": [
    "There is almost same number of observations across all the six activities so this data does not have class imbalance problem. "
   ]
  },
  {
   "cell_type": "markdown",
   "metadata": {
    "id": "9hmaK8pci2VU"
   },
   "source": [
    "## 4. Exploratory Data Analysis"
   ]
  },
  {
   "cell_type": "markdown",
   "metadata": {
    "id": "d66keC4Ui2VV"
   },
   "source": [
    "##### what features are there? "
   ]
  },
  {
   "cell_type": "code",
   "execution_count": null,
   "metadata": {
    "id": "z1SeUdYvi2VV",
    "outputId": "18eb0304-8981-4f52-d757-92afc5f56d12"
   },
   "outputs": [],
   "source": [
    "train.head()"
   ]
  },
  {
   "cell_type": "code",
   "execution_count": null,
   "metadata": {
    "id": "UGEWUK1hi2VW",
    "outputId": "ba90aea6-0015-4127-bca7-136ff0a8c97b"
   },
   "outputs": [],
   "source": [
    "pd.DataFrame.from_dict(Counter([col.split('-')[0].split('(')[0] for col in train.columns]), \n",
    "                       orient = \"index\").rename(columns = {0:'count'}).sort_values('count', ascending=False)\n"
   ]
  },
  {
   "cell_type": "markdown",
   "metadata": {
    "id": "hqEreOL9i2VX"
   },
   "source": [
    "Mainly there are 'acceleration' and 'gyroscope' features. A few 'gravity' features are there as well. Impressive how many features there are in regard of the limited number of sensors used."
   ]
  },
  {
   "cell_type": "markdown",
   "metadata": {
    "id": "-RoMioLgi2VY"
   },
   "source": [
    "Based on the common nature of activities we can broadly put them in two categories.\n",
    "- **Static and dynamic activities : **\n",
    "    - SITTING, STANDING, LAYING can be considered as static activities with no motion involved\n",
    "    - WALKING, WALKING_DOWNSTAIRS, WALKING_UPSTAIRS can be considered as dynamic activities with significant amount of motion involved    \n",
    "    \n",
    "Let's consider **tBodyAccMag-mean()** feature to differentiate among these two broader set of activities.\n",
    "\n",
    "If we try to build a simple classification model to classify the **activity** using one variable at a time then probability density function(PDF) is very helpful to assess importance of a continuous variable."
   ]
  },
  {
   "cell_type": "markdown",
   "metadata": {
    "id": "psjlr2Sui2VZ"
   },
   "source": [
    "#### 4.a Analysing tBodyAccMag-mean feature"
   ]
  },
  {
   "cell_type": "code",
   "execution_count": null,
   "metadata": {
    "id": "MU18tvypi2Va",
    "outputId": "9bff7fcb-cdce-45a0-bd2a-ffe206e6c069"
   },
   "outputs": [],
   "source": [
    "facetgrid = sns.FacetGrid(train, hue = 'Activity', height = 5, aspect = 3)\n",
    "facetgrid.map(sns.distplot, 'tBodyAccMag-mean()', hist = False).add_legend()\n",
    "\n",
    "plt.annotate(\"Static Activities\", xy = (-.98, 8), xytext = (-.8, 16), arrowprops={'arrowstyle': '-', 'ls': 'dashed'})\n",
    "plt.annotate(\"Static Activities\", xy = (-.98, 13), xytext = (-.8, 16), arrowprops={'arrowstyle': '-', 'ls': 'dashed'})\n",
    "plt.annotate(\"Static Activities\", xy = (-.98, 16), xytext = (-.8, 16), arrowprops={'arrowstyle': '-', 'ls': 'dashed'})\n",
    "\n",
    "plt.annotate(\"Dynamic Activities\", xy=(-0.2,3.25), xytext=(0.1, 9),arrowprops={'arrowstyle': '-', 'ls': 'dashed'})\n",
    "plt.annotate(\"Dynamic Activities\", xy=(0.1,2.18), xytext=(0.1, 9),arrowprops={'arrowstyle': '-', 'ls': 'dashed'})\n",
    "plt.annotate(\"Dynamic Activities\", xy=(-0.01,2.15), xytext=(0.1, 9),arrowprops={'arrowstyle': '-', 'ls': 'dashed'})\n",
    "\n",
    "plt.show()"
   ]
  },
  {
   "cell_type": "markdown",
   "metadata": {
    "id": "GRKK0KD_i2Vc"
   },
   "source": [
    "Using the above density plot we can easily come with a condition to seperate static activities from dynamic activities.\n",
    "\n",
    "``` \n",
    "if(tBodyAccMag-mean()<=-0.5):\n",
    "    Activity = \"static\"\n",
    "else:\n",
    "    Activity = \"dynamic\"\n",
    "```\n",
    "\n",
    "Let's have a more closer view on the PDFs of each activity under static and dynamic categorization."
   ]
  },
  {
   "cell_type": "code",
   "execution_count": null,
   "metadata": {
    "id": "2phLK7Zvi2Vd",
    "outputId": "d259e0f9-da32-497e-f996-db001c13d447"
   },
   "outputs": [],
   "source": [
    "plt.figure(figsize=(12,8))\n",
    "plt.subplot(1,2,1)\n",
    "plt.title(\"Static Activities(closer view)\")\n",
    "sns.distplot(train[train[\"Activity\"]==\"SITTING\"]['tBodyAccMag-mean()'],hist = False, label = 'Sitting')\n",
    "sns.distplot(train[train[\"Activity\"]==\"STANDING\"]['tBodyAccMag-mean()'],hist = False,label = 'Standing')\n",
    "sns.distplot(train[train[\"Activity\"]==\"LAYING\"]['tBodyAccMag-mean()'],hist = False, label = 'Laying')\n",
    "plt.axis([-1.02, -0.5, 0, 17])\n",
    "\n",
    "plt.subplot(1,2,2)\n",
    "plt.title(\"Dynamic Activities(closer view)\")\n",
    "sns.distplot(train[train[\"Activity\"]==\"WALKING\"]['tBodyAccMag-mean()'],hist = False, label = 'WALKING')\n",
    "sns.distplot(train[train[\"Activity\"]==\"WALKING_DOWNSTAIRS\"]['tBodyAccMag-mean()'],hist = False,label = 'WALKING_DOWNSTAIRS')\n",
    "sns.distplot(train[train[\"Activity\"]==\"WALKING_UPSTAIRS\"]['tBodyAccMag-mean()'],hist = False, label = 'WALKING_UPSTAIRS')\n",
    "plt.show()"
   ]
  },
  {
   "cell_type": "markdown",
   "metadata": {
    "id": "1iqPKhw2i2Ve"
   },
   "source": [
    "The insights obtained through density plots can also be represented using Box plots. Let's plot the boxplot of Body Accelartion Magnitude mean(tBodyAccMag-mean()) across all the six categories.\n"
   ]
  },
  {
   "cell_type": "code",
   "execution_count": null,
   "metadata": {
    "id": "akoXEjBFi2Ve",
    "outputId": "eecbc7e9-cc56-4fbe-a946-44ebf8633a0f"
   },
   "outputs": [],
   "source": [
    "plt.figure(figsize=(10,7))\n",
    "sns.boxplot(x = \"Activity\", y=\"tBodyAccMag-mean()\", data = train, showfliers = False)\n",
    "plt.ylabel('Body Acceleration Magnitude mean')\n",
    "plt.title(\"Boxplot of tBodyAccMag-mean() column across various activities\")\n",
    "plt.axhline(y = -0.8, xmin = 0.05, dashes = (3,3))\n",
    "plt.axhline(y= 0.0, xmin = 0.35, dashes=(3,3))\n",
    "plt.show()"
   ]
  },
  {
   "cell_type": "markdown",
   "metadata": {
    "id": "zFO1yWygi2Vf"
   },
   "source": [
    "Using boxplot again we can come with conditions to seperate static activities from dynamic activities.\n",
    "\n",
    "``` \n",
    "if(tBodyAccMag-mean()<=-0.8):\n",
    "    Activity = \"static\"\n",
    "if(tBodyAccMag-mean()>=-0.6):\n",
    "    Activity = \"dynamic\"\n",
    "``` "
   ]
  },
  {
   "cell_type": "markdown",
   "metadata": {
    "id": "LltCYCkni2Vg"
   },
   "source": [
    "Also, we can easily seperate WALKING_DOWNSTAIRS activity from others using boxplot.\n",
    "\n",
    "``` \n",
    "if(tBodyAccMag-mean()>0.02):\n",
    "    Activity = \"WALKING_DOWNSTAIRS\"\n",
    "else:\n",
    "    Activity = \"others\"\n",
    "```\n",
    "\n",
    "But still 25% of WALKING_DOWNSTAIRS observations are below 0.02 which are misclassified as **others** so this condition makes an error of 25% in classification."
   ]
  },
  {
   "cell_type": "markdown",
   "metadata": {
    "id": "Mraj9fM4i2Vh"
   },
   "source": [
    "#### 4.b Analysing Angle between X-axis and gravityMean feature"
   ]
  },
  {
   "cell_type": "code",
   "execution_count": null,
   "metadata": {
    "id": "uWldzzMoi2Vi",
    "outputId": "f39d3138-14bb-4ac9-ce20-e9dc5d12e101"
   },
   "outputs": [],
   "source": [
    "plt.figure(figsize=(10,7))\n",
    "sns.boxplot(x='Activity', y='angle(X,gravityMean)', data=train, showfliers=False)\n",
    "plt.axhline(y=0.08, xmin=0.1, xmax=0.9,dashes=(3,3))\n",
    "plt.ylabel(\"Angle between X-axis and gravityMean\")\n",
    "plt.title('Box plot of angle(X,gravityMean) column across various activities')\n",
    "plt.xticks(rotation = 30)\n",
    "plt.show()"
   ]
  },
  {
   "cell_type": "markdown",
   "metadata": {
    "id": "TjDsWEd2i2Vj"
   },
   "source": [
    "From the boxplot we can observe that angle(X,gravityMean) perfectly seperates LAYING from other activities.\n",
    "``` \n",
    "if(angle(X,gravityMean)>0.01):\n",
    "    Activity = \"LAYING\"\n",
    "else:\n",
    "    Activity = \"others\"\n",
    "```"
   ]
  },
  {
   "cell_type": "markdown",
   "metadata": {
    "id": "_P5s5t5yi2Vk"
   },
   "source": [
    "#### 4.c Analysing Angle between Y-axis and gravityMean feature"
   ]
  },
  {
   "cell_type": "code",
   "execution_count": null,
   "metadata": {
    "id": "jFB2-mXyi2Vl",
    "outputId": "a1857285-a20f-4e68-8cf4-7dc130dac36d"
   },
   "outputs": [],
   "source": [
    "plt.figure(figsize=(10,7))\n",
    "sns.boxplot(x='Activity', y='angle(Y,gravityMean)', data = train, showfliers=False)\n",
    "plt.ylabel(\"Angle between Y-axis and gravityMean\")\n",
    "plt.title('Box plot of angle(Y,gravityMean) column across various activities')\n",
    "plt.xticks(rotation = 90)\n",
    "plt.axhline(y=-0.35, xmin=0.01, dashes=(3,3))\n",
    "plt.show()"
   ]
  },
  {
   "cell_type": "markdown",
   "metadata": {
    "id": "tVHI27i9i2Vn"
   },
   "source": [
    "Similarly, using Angle between Y-axis and gravityMean we can seperate LAYING from other activities but again it leads to some misclassification error.\n"
   ]
  },
  {
   "cell_type": "markdown",
   "metadata": {
    "id": "QQt1691xi2Vn"
   },
   "source": [
    "### 4.d Visualizing data using PCA"
   ]
  },
  {
   "cell_type": "markdown",
   "metadata": {
    "id": "jKOESI6Zi2Vo"
   },
   "source": [
    "Using PCA data can be visualized from a extremely high dimensional space to a low dimensional space and still it retains lots of actual information. Given training data has 561 unqiue features, using PCA let's visualize it to a 2D space."
   ]
  },
  {
   "cell_type": "code",
   "execution_count": null,
   "metadata": {
    "id": "yh8GPN6si2Vp"
   },
   "outputs": [],
   "source": [
    "x_for_pca = train.drop(['subject', 'Activity'], axis = 1)\n",
    "pca = PCA(n_components=2, random_state=0).fit_transform(x_for_pca)"
   ]
  },
  {
   "cell_type": "code",
   "execution_count": null,
   "metadata": {
    "id": "e5tJo4Dni2Vp",
    "outputId": "8dd61237-697f-4e1e-9710-a8ee7d3f2f40"
   },
   "outputs": [],
   "source": [
    "pca"
   ]
  },
  {
   "cell_type": "code",
   "execution_count": null,
   "metadata": {
    "id": "2sXmhIsji2Vq",
    "outputId": "54c0008a-440c-4323-a5b8-e5f13b04660f"
   },
   "outputs": [],
   "source": [
    "plt.figure(figsize=(12,8))\n",
    "sns.scatterplot(x = pca[:, 0], y = pca[:, 1], hue = train['Activity'])\n",
    "plt.show()"
   ]
  },
  {
   "cell_type": "markdown",
   "metadata": {
    "id": "69pp9OZ7i2Vr"
   },
   "source": [
    "Using the two new components obtained through PCA we can visualize and seperate all the six activities in a 2D space."
   ]
  },
  {
   "cell_type": "markdown",
   "metadata": {
    "id": "qtRrs74Ei2Vs"
   },
   "source": [
    "### 4.d Visualizing data using t-SNE"
   ]
  },
  {
   "cell_type": "markdown",
   "metadata": {
    "id": "gmqvw1cRi2Vt"
   },
   "source": [
    "Using t-SNE data can be visualized from a extremely high dimensional space to a low dimensional space and still it retains lots of actual information. Given training data has 561 unqiue features, using t-SNE let's visualize it to a 2D space."
   ]
  },
  {
   "cell_type": "code",
   "execution_count": null,
   "metadata": {
    "id": "7APBMSBri2Vt"
   },
   "outputs": [],
   "source": [
    "x_for_tsne = train.drop(['subject', 'Activity'], axis = 1)\n",
    "tsne = TSNE(n_components=2, random_state=0, n_iter=1000).fit_transform(x_for_tsne)"
   ]
  },
  {
   "cell_type": "code",
   "execution_count": null,
   "metadata": {
    "id": "j4DVqO18i2Vu",
    "outputId": "7387ed12-fa8d-48d2-d2a8-d133ea91489e"
   },
   "outputs": [],
   "source": [
    "tsne"
   ]
  },
  {
   "cell_type": "code",
   "execution_count": null,
   "metadata": {
    "id": "WoyvGm7Ni2Vv",
    "outputId": "84ea2f19-3ba4-4f87-bb4c-1b7f4cfacb4a"
   },
   "outputs": [],
   "source": [
    "plt.figure(figsize=(12,8))\n",
    "sns.scatterplot(x = tsne[:, 0], y = tsne[:, 1], hue = train['Activity'])\n",
    "plt.show()"
   ]
  },
  {
   "cell_type": "markdown",
   "metadata": {
    "id": "Bz2TgLi0i2Vw"
   },
   "source": [
    "# 5. ML models"
   ]
  },
  {
   "cell_type": "markdown",
   "metadata": {
    "id": "0lIdxCLUi2Vx"
   },
   "source": [
    "### Getting training and test data ready"
   ]
  },
  {
   "cell_type": "code",
   "execution_count": null,
   "metadata": {
    "id": "htR88CrBi2Vy"
   },
   "outputs": [],
   "source": [
    "X_train = train.drop(['subject', 'Activity'], axis = 1)\n",
    "y_train = train.Activity\n",
    "\n",
    "X_test = test.drop(['subject', 'Activity'], axis = 1)\n",
    "y_test = test.Activity"
   ]
  },
  {
   "cell_type": "code",
   "execution_count": null,
   "metadata": {
    "id": "vV61fz6ri2Vy",
    "outputId": "b6c04315-b855-48d2-e21c-c1facd91a725"
   },
   "outputs": [],
   "source": [
    "print('Training data size : ', X_train.shape)\n",
    "print('Test data size : ', X_test.shape)"
   ]
  },
  {
   "cell_type": "markdown",
   "metadata": {
    "id": "UcBRVPrLi2Vz"
   },
   "source": [
    "### 5.a Logistic regression model with Hyperparameter tuning and cross validation"
   ]
  },
  {
   "cell_type": "code",
   "execution_count": null,
   "metadata": {
    "id": "DMhtoyxli2V0"
   },
   "outputs": [],
   "source": [
    "parameters = {'max_iter': [100, 200, 500]}\n",
    "lr_classifier = LogisticRegression()\n",
    "lr_classifier_rs = RandomizedSearchCV(lr_classifier, param_distributions= parameters, cv = 5, random_state=42)\n",
    "lr_classifier_rs.fit(X_train, y_train)\n",
    "y_pred_lr = lr_classifier_rs.predict(X_test)"
   ]
  },
  {
   "cell_type": "code",
   "execution_count": null,
   "metadata": {
    "id": "ZLf-h9Dbi2V1",
    "outputId": "9364a60b-10ea-4e38-f28b-a2896e2bc076"
   },
   "outputs": [],
   "source": [
    "lr_accuracy = accuracy_score(y_true=y_test, y_pred=y_pred_lr)\n",
    "print(\"Accuracy using Logistic Regression : \", lr_accuracy)"
   ]
  },
  {
   "cell_type": "code",
   "execution_count": null,
   "metadata": {
    "id": "VscueOhFi2V2"
   },
   "outputs": [],
   "source": [
    "# function to plot confusion matrix\n",
    "def plot_confusion_matrix(cm,labels):\n",
    "    fig, ax = plt.subplots(figsize=(12,8)) # for plotting confusion matrix as image\n",
    "    im = ax.imshow(cm, interpolation='nearest', cmap=plt.cm.Blues)\n",
    "    ax.figure.colorbar(im, ax=ax)\n",
    "    ax.set(xticks=np.arange(cm.shape[1]),\n",
    "    yticks=np.arange(cm.shape[0]),\n",
    "    xticklabels=labels, yticklabels=labels,\n",
    "    ylabel='True label',\n",
    "    xlabel='Predicted label')\n",
    "    plt.xticks(rotation = 90)\n",
    "    thresh = cm.max() / 2.\n",
    "    for i in range(cm.shape[0]):\n",
    "        for j in range(cm.shape[1]):\n",
    "            ax.text(j, i, int(cm[i, j]),ha=\"center\", va=\"center\",color=\"white\" if cm[i, j] > thresh else \"black\")\n",
    "    fig.tight_layout()"
   ]
  },
  {
   "cell_type": "code",
   "execution_count": null,
   "metadata": {
    "id": "GfoIXxlfi2V3",
    "outputId": "03fde02a-f0d4-4860-b9d8-3d222c3edb25"
   },
   "outputs": [],
   "source": [
    "cm = confusion_matrix(y_test.values,y_pred_lr)\n",
    "cm"
   ]
  },
  {
   "cell_type": "code",
   "execution_count": null,
   "metadata": {
    "id": "hr80w2K1i2V3",
    "outputId": "f65c90d9-9c00-44bd-8267-df146e8e4262"
   },
   "outputs": [],
   "source": [
    "cm = confusion_matrix(y_test.values,y_pred_lr)\n",
    "plot_confusion_matrix(cm, np.unique(y_pred_lr))"
   ]
  },
  {
   "cell_type": "code",
   "execution_count": null,
   "metadata": {
    "id": "0uLVKLuti2V5"
   },
   "outputs": [],
   "source": [
    "#function to get best random search attributes\n",
    "def get_best_randomsearch_results(model):\n",
    "    print(\"Best estimator : \", model.best_estimator_)\n",
    "    print(\"Best set of parameters : \", model.best_params_)\n",
    "    #print(\"Best score : \", model.best_score_)"
   ]
  },
  {
   "cell_type": "code",
   "execution_count": null,
   "metadata": {
    "id": "Cnoa-5_0i2V6",
    "outputId": "9996e851-58ef-4851-ddf8-c90f7d8f7f15"
   },
   "outputs": [],
   "source": [
    "# getting best random search attributes\n",
    "get_best_randomsearch_results(lr_classifier_rs)"
   ]
  },
  {
   "cell_type": "markdown",
   "metadata": {
    "id": "ortCju0_i2V7"
   },
   "source": [
    "## 5.b Kernel SVM model with Hyperparameter tuning and cross validation"
   ]
  },
  {
   "cell_type": "code",
   "execution_count": null,
   "metadata": {
    "id": "hVNX80OSi2V7",
    "outputId": "c87fa59e-18b9-4289-b3a2-621fe923be81"
   },
   "outputs": [],
   "source": [
    "parameters = {\n",
    "    'kernel': ['linear', 'rbf', 'poly', 'sigmoid'],\n",
    "    'C': [100, 50]\n",
    "}\n",
    "\n",
    "svm_rs = RandomizedSearchCV(SVC(), param_distributions=parameters, cv = 3, random_state=42)\n",
    "svm_rs.fit(X_train, y_train)"
   ]
  },
  {
   "cell_type": "code",
   "execution_count": null,
   "metadata": {
    "id": "hZbBxDgAi2V8"
   },
   "outputs": [],
   "source": [
    "y_pred = svm_rs.predict(X_test)"
   ]
  },
  {
   "cell_type": "code",
   "execution_count": null,
   "metadata": {
    "id": "o5juDH67i2V9",
    "outputId": "8ca75c6f-3b73-44c7-ffb2-5a95a11c1ebe"
   },
   "outputs": [],
   "source": [
    "kernel_svm_accuracy = accuracy_score(y_true=y_test, y_pred=y_pred)\n",
    "print(\"Accuracy using Kernel SVM : \", kernel_svm_accuracy)"
   ]
  },
  {
   "cell_type": "code",
   "execution_count": null,
   "metadata": {
    "id": "DbHE6utZi2V-",
    "outputId": "19cb281c-d02c-440f-c968-e746c3b5b558"
   },
   "outputs": [],
   "source": [
    "cm = confusion_matrix(y_test.values,y_pred)\n",
    "plot_confusion_matrix(cm, np.unique(y_pred))"
   ]
  },
  {
   "cell_type": "code",
   "execution_count": null,
   "metadata": {
    "id": "Nm227Yfbi2V_",
    "outputId": "93446e96-f3ce-4e59-e59f-b34950a5be30"
   },
   "outputs": [],
   "source": [
    "get_best_randomsearch_results(svm_rs)"
   ]
  },
  {
   "cell_type": "markdown",
   "metadata": {
    "id": "TqlqFCZOi2WA"
   },
   "source": [
    "## 5.c Decision tree model with Hyperparameter tuning and cross validation"
   ]
  },
  {
   "cell_type": "code",
   "execution_count": null,
   "metadata": {
    "id": "gcsJP17Ji2WB",
    "outputId": "9b743626-84a6-4937-cd16-edef6176963e"
   },
   "outputs": [],
   "source": [
    "parameters = {'max_depth': np.arange(2, 10, 2)}\n",
    "\n",
    "dt_classifier = DecisionTreeClassifier()\n",
    "dt_classifier_rs = RandomizedSearchCV(dt_classifier, param_distributions = parameters, random_state = 42)\n",
    "dt_classifier_rs.fit(X_train, y_train)\n"
   ]
  },
  {
   "cell_type": "code",
   "execution_count": null,
   "metadata": {
    "id": "9fcxCWQSi2WC"
   },
   "outputs": [],
   "source": [
    "y_pred = dt_classifier_rs.predict(X_test)"
   ]
  },
  {
   "cell_type": "code",
   "execution_count": null,
   "metadata": {
    "id": "3mSHguWai2WD",
    "outputId": "6ef9961c-9cab-47c5-9463-a0babace6bb3"
   },
   "outputs": [],
   "source": [
    "dt_accuracy = accuracy_score(y_true=y_test, y_pred=y_pred)\n",
    "print(\"Accuracy using Decision tree : \", dt_accuracy)"
   ]
  },
  {
   "cell_type": "code",
   "execution_count": null,
   "metadata": {
    "id": "cH-oXJ2ei2WE",
    "outputId": "8c1b5e4d-1e9b-447c-b0d1-8bc54cceb54a"
   },
   "outputs": [],
   "source": [
    "cm = confusion_matrix(y_test.values,y_pred)\n",
    "plot_confusion_matrix(cm, np.unique(y_pred)) # plotting confusion matrix"
   ]
  },
  {
   "cell_type": "code",
   "execution_count": null,
   "metadata": {
    "id": "Gtvtu--ki2WF",
    "outputId": "df9546db-a9c2-455d-c824-58f02b4e2c21"
   },
   "outputs": [],
   "source": [
    "# getting best random search attributes\n",
    "get_best_randomsearch_results(dt_classifier_rs)"
   ]
  },
  {
   "cell_type": "code",
   "execution_count": null,
   "metadata": {
    "id": "5vHWieoqi2WG"
   },
   "outputs": [],
   "source": []
  },
  {
   "cell_type": "markdown",
   "metadata": {
    "id": "59GKa1IBi2WG"
   },
   "source": [
    "## 5.d Random forest model with Hyperparameter tuning and cross validation"
   ]
  },
  {
   "cell_type": "code",
   "execution_count": null,
   "metadata": {
    "id": "Sb8yajT3i2WH",
    "outputId": "7e06781f-9f53-47cd-91a7-3051ffc008dd"
   },
   "outputs": [],
   "source": [
    "parameters = {\n",
    "    'n_estimators':np.arange(20, 101, 10), \n",
    "    'max_depth': np.arange(2, 17, 2)\n",
    "}\n",
    "rf_classifier = RandomForestClassifier()\n",
    "rf_classifier_rs = RandomizedSearchCV(rf_classifier, param_distributions=parameters,random_state = 42)\n",
    "rf_classifier_rs.fit(X_train, y_train)\n"
   ]
  },
  {
   "cell_type": "code",
   "execution_count": null,
   "metadata": {
    "id": "Is2vke3Di2WH",
    "outputId": "80920e5e-cac9-44c3-bab0-d817b8120f34"
   },
   "outputs": [],
   "source": [
    "# getting best random search attributes\n",
    "get_best_randomsearch_results(rf_classifier_rs)"
   ]
  },
  {
   "cell_type": "code",
   "execution_count": null,
   "metadata": {
    "id": "MY4goMOJi2WJ"
   },
   "outputs": [],
   "source": [
    "y_pred = rf_classifier_rs.predict(X_test)"
   ]
  },
  {
   "cell_type": "code",
   "execution_count": null,
   "metadata": {
    "id": "482HAi3Ui2WJ",
    "outputId": "c04e6e42-bb2e-434d-ad74-90bbc9d56832"
   },
   "outputs": [],
   "source": [
    "rf_accuracy = accuracy_score(y_true=y_test, y_pred=y_pred)\n",
    "print(\"Accuracy using Random forest : \", rf_accuracy)"
   ]
  },
  {
   "cell_type": "code",
   "execution_count": null,
   "metadata": {
    "id": "z9kLHZIri2WK",
    "outputId": "3a707fa7-35d3-47dc-9c49-3f9effc9eef5"
   },
   "outputs": [],
   "source": [
    "cm = confusion_matrix(y_test.values,y_pred)\n",
    "plot_confusion_matrix(cm, np.unique(y_pred))"
   ]
  },
  {
   "cell_type": "code",
   "execution_count": null,
   "metadata": {
    "id": "Sq5TwVTri2WL"
   },
   "outputs": [],
   "source": []
  }
 ],
 "metadata": {
  "colab": {
   "provenance": []
  },
  "kernelspec": {
   "display_name": "Python 3",
   "language": "python",
   "name": "python3"
  },
  "language_info": {
   "codemirror_mode": {
    "name": "ipython",
    "version": 3
   },
   "file_extension": ".py",
   "mimetype": "text/x-python",
   "name": "python",
   "nbconvert_exporter": "python",
   "pygments_lexer": "ipython3",
   "version": "3.8.5"
  }
 },
 "nbformat": 4,
 "nbformat_minor": 1
}
